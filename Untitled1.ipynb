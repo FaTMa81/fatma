{
 "cells": [
  {
   "cell_type": "markdown",
   "id": "f890e918",
   "metadata": {},
   "source": [
    "# MANTIKSAL BAĞLAÇLAR"
   ]
  },
  {
   "cell_type": "markdown",
   "id": "c3db203d",
   "metadata": {},
   "source": [
    "## And Bağlacı"
   ]
  },
  {
   "cell_type": "code",
   "execution_count": 2,
   "id": "6cf2a0f3",
   "metadata": {},
   "outputs": [
    {
     "data": {
      "text/plain": [
       "True"
      ]
     },
     "execution_count": 2,
     "metadata": {},
     "output_type": "execute_result"
    }
   ],
   "source": [
    "1<2 and \"Murat\"==\"Murat\""
   ]
  },
  {
   "cell_type": "code",
   "execution_count": 3,
   "id": "1ac0bb37",
   "metadata": {},
   "outputs": [
    {
     "data": {
      "text/plain": [
       "False"
      ]
     },
     "execution_count": 3,
     "metadata": {},
     "output_type": "execute_result"
    }
   ],
   "source": [
    "2>3 and \"Murat\"==\"Murat\""
   ]
  },
  {
   "cell_type": "markdown",
   "id": "1f5a71f1",
   "metadata": {},
   "source": [
    "## Or Bağlacı"
   ]
  },
  {
   "cell_type": "code",
   "execution_count": 4,
   "id": "cfa87dd3",
   "metadata": {},
   "outputs": [
    {
     "data": {
      "text/plain": [
       "True"
      ]
     },
     "execution_count": 4,
     "metadata": {},
     "output_type": "execute_result"
    }
   ],
   "source": [
    "1<2 or \"Murat\"!=\"Murat\""
   ]
  },
  {
   "cell_type": "code",
   "execution_count": 5,
   "id": "08797dc1",
   "metadata": {},
   "outputs": [
    {
     "data": {
      "text/plain": [
       "False"
      ]
     },
     "execution_count": 5,
     "metadata": {},
     "output_type": "execute_result"
    }
   ],
   "source": [
    "2>3 or \"Murat\"!=\"Murat\""
   ]
  },
  {
   "cell_type": "code",
   "execution_count": 8,
   "id": "cc2f2f07",
   "metadata": {},
   "outputs": [
    {
     "data": {
      "text/plain": [
       "True"
      ]
     },
     "execution_count": 8,
     "metadata": {},
     "output_type": "execute_result"
    }
   ],
   "source": [
    "2>3 or \"murat\"!=\"Murat\" or 3.14<4.32"
   ]
  },
  {
   "cell_type": "markdown",
   "id": "7fcb68f0",
   "metadata": {},
   "source": [
    "## Not Bağlacı"
   ]
  },
  {
   "cell_type": "code",
   "execution_count": 9,
   "id": "470613c6",
   "metadata": {},
   "outputs": [
    {
     "data": {
      "text/plain": [
       "False"
      ]
     },
     "execution_count": 9,
     "metadata": {},
     "output_type": "execute_result"
    }
   ],
   "source": [
    "not 2==2"
   ]
  },
  {
   "cell_type": "code",
   "execution_count": 10,
   "id": "2e3c005b",
   "metadata": {},
   "outputs": [
    {
     "data": {
      "text/plain": [
       "True"
      ]
     },
     "execution_count": 10,
     "metadata": {},
     "output_type": "execute_result"
    }
   ],
   "source": [
    "not \"Python\"==\"Php\""
   ]
  },
  {
   "cell_type": "markdown",
   "id": "005e34d1",
   "metadata": {},
   "source": [
    "## İN BAĞLACI"
   ]
  },
  {
   "cell_type": "code",
   "execution_count": 12,
   "id": "8d57ffd2",
   "metadata": {},
   "outputs": [
    {
     "data": {
      "text/plain": [
       "True"
      ]
     },
     "execution_count": 12,
     "metadata": {},
     "output_type": "execute_result"
    }
   ],
   "source": [
    "\"a\" in \"merhaba\""
   ]
  },
  {
   "cell_type": "code",
   "execution_count": 13,
   "id": "a43ed506",
   "metadata": {},
   "outputs": [
    {
     "data": {
      "text/plain": [
       "True"
      ]
     },
     "execution_count": 13,
     "metadata": {},
     "output_type": "execute_result"
    }
   ],
   "source": [
    "\"mer\" in \"merhaba\""
   ]
  },
  {
   "cell_type": "code",
   "execution_count": 14,
   "id": "75391625",
   "metadata": {},
   "outputs": [
    {
     "data": {
      "text/plain": [
       "False"
      ]
     },
     "execution_count": 14,
     "metadata": {},
     "output_type": "execute_result"
    }
   ],
   "source": [
    "\"t\"in \"merhba\""
   ]
  },
  {
   "cell_type": "code",
   "execution_count": 16,
   "id": "3cadab32",
   "metadata": {},
   "outputs": [
    {
     "data": {
      "text/plain": [
       "True"
      ]
     },
     "execution_count": 16,
     "metadata": {},
     "output_type": "execute_result"
    }
   ],
   "source": [
    "4 in [1,2,3,4]"
   ]
  },
  {
   "cell_type": "markdown",
   "id": "3c6ed67f",
   "metadata": {},
   "source": [
    "## FOR KOŞULU"
   ]
  },
  {
   "cell_type": "code",
   "execution_count": 18,
   "id": "7d6d4660",
   "metadata": {},
   "outputs": [
    {
     "name": "stdout",
     "output_type": "stream",
     "text": [
      "2\n",
      "4\n",
      "6\n",
      "8\n"
     ]
    }
   ],
   "source": [
    "#Cift elemanları bastırma \n",
    "liste=[1,2,3,4,5,6,7,8,9]\n",
    "\n",
    "for eleman in liste:\n",
    "    if eleman %2==0:\n",
    "        print(eleman)\n"
   ]
  },
  {
   "cell_type": "code",
   "execution_count": null,
   "id": "e0886ef8",
   "metadata": {},
   "outputs": [],
   "source": []
  }
 ],
 "metadata": {
  "kernelspec": {
   "display_name": "Python 3 (ipykernel)",
   "language": "python",
   "name": "python3"
  },
  "language_info": {
   "codemirror_mode": {
    "name": "ipython",
    "version": 3
   },
   "file_extension": ".py",
   "mimetype": "text/x-python",
   "name": "python",
   "nbconvert_exporter": "python",
   "pygments_lexer": "ipython3",
   "version": "3.9.13"
  }
 },
 "nbformat": 4,
 "nbformat_minor": 5
}
